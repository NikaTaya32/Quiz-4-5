{
 "cells": [
  {
   "cell_type": "code",
   "execution_count": 37,
   "id": "ac3f82e8-6397-4f03-8105-afdb6bbd63ec",
   "metadata": {},
   "outputs": [
    {
     "name": "stdout",
     "output_type": "stream",
     "text": [
      "დაკავშირებული ბაზასთან Happiness.sqlite3\n",
      "\n"
     ]
    }
   ],
   "source": [
    "import sqlite3\n",
    "import matplotlib.pyplot as plt\n",
    "import pandas as pd\n",
    "\n",
    "conn = sqlite3.connect(\"Happiness.sqlite3\")\n",
    "cursor = conn.cursor()\n",
    "print(\"დაკავშირებული ბაზასთან Happiness.sqlite3\\n\")"
   ]
  },
  {
   "cell_type": "code",
   "execution_count": 38,
   "id": "d08dca18-16c1-4cc5-a416-d283e69aa0d4",
   "metadata": {},
   "outputs": [
    {
     "name": "stdout",
     "output_type": "stream",
     "text": [
      "დასავლეთ ევროპის სია, ბედნიერების მაჩვენებლით (ზრდადობით დალაგებული):\n",
      "\n",
      "('North Cyprus', 'Western Europe', 5.536, 0.051, 5.636, 5.435, 10.576, 0.82, 73.898, 0.795, 0.012, 0.626, 2.43, 1.377, 0.806, 0.801, 0.503, 0.196, 0.2, 1.653)\n",
      "('Greece', 'Western Europe', 5.723, 0.046, 5.813, 5.632, 10.279, 0.823, 72.6, 0.582, -0.288, 0.823, 2.43, 1.273, 0.811, 0.76, 0.243, 0.0, 0.074, 2.561)\n",
      "('Portugal', 'Western Europe', 5.929, 0.055, 6.037, 5.821, 10.421, 0.879, 72.6, 0.892, -0.244, 0.887, 2.43, 1.323, 0.939, 0.76, 0.621, 0.029, 0.033, 2.225)\n",
      "('Cyprus', 'Western Europe', 6.223, 0.049, 6.319, 6.128, 10.576, 0.802, 73.898, 0.763, -0.015, 0.844, 2.43, 1.377, 0.765, 0.801, 0.464, 0.178, 0.061, 2.578)\n",
      "('Italy', 'Western Europe', 6.483, 0.045, 6.572, 6.395, 10.623, 0.88, 73.8, 0.693, -0.084, 0.866, 2.43, 1.393, 0.94, 0.798, 0.379, 0.133, 0.047, 2.794)\n",
      "('Spain', 'Western Europe', 6.491, 0.042, 6.574, 6.408, 10.571, 0.932, 74.7, 0.761, -0.081, 0.745, 2.43, 1.375, 1.057, 0.826, 0.462, 0.135, 0.124, 2.513)\n",
      "('Malta', 'Western Europe', 6.602, 0.044, 6.688, 6.516, 10.674, 0.931, 72.2, 0.927, 0.133, 0.653, 2.43, 1.411, 1.055, 0.747, 0.664, 0.275, 0.183, 2.268)\n",
      "('France', 'Western Europe', 6.69, 0.037, 6.762, 6.618, 10.704, 0.942, 74.0, 0.822, -0.147, 0.571, 2.43, 1.421, 1.081, 0.804, 0.536, 0.092, 0.235, 2.521)\n",
      "('Belgium', 'Western Europe', 6.834, 0.034, 6.901, 6.767, 10.823, 0.906, 72.199, 0.783, -0.153, 0.646, 2.43, 1.463, 0.998, 0.747, 0.489, 0.088, 0.187, 2.862)\n",
      "('United Kingdom', 'Western Europe', 7.064, 0.038, 7.138, 6.99, 10.707, 0.934, 72.5, 0.859, 0.233, 0.459, 2.43, 1.423, 1.062, 0.757, 0.58, 0.34, 0.306, 2.596)\n",
      "('Ireland', 'Western Europe', 7.085, 0.04, 7.164, 7.006, 11.342, 0.947, 72.4, 0.879, 0.077, 0.363, 2.43, 1.644, 1.092, 0.753, 0.606, 0.238, 0.367, 2.384)\n",
      "('Germany', 'Western Europe', 7.155, 0.04, 7.232, 7.077, 10.873, 0.903, 72.5, 0.875, 0.011, 0.46, 2.43, 1.48, 0.993, 0.757, 0.6, 0.195, 0.306, 2.824)\n",
      "('Austria', 'Western Europe', 7.268, 0.036, 7.337, 7.198, 10.906, 0.934, 73.3, 0.908, 0.042, 0.481, 2.43, 1.492, 1.062, 0.782, 0.64, 0.215, 0.292, 2.784)\n",
      "('Luxembourg', 'Western Europe', 7.324, 0.037, 7.396, 7.252, 11.647, 0.908, 72.6, 0.907, -0.034, 0.386, 2.43, 1.751, 1.003, 0.76, 0.639, 0.166, 0.353, 2.653)\n",
      "('Sweden', 'Western Europe', 7.363, 0.036, 7.433, 7.293, 10.867, 0.934, 72.7, 0.945, 0.086, 0.237, 2.43, 1.478, 1.062, 0.763, 0.685, 0.244, 0.448, 2.683)\n",
      "('Norway', 'Western Europe', 7.392, 0.035, 7.462, 7.323, 11.053, 0.954, 73.3, 0.96, 0.093, 0.27, 2.43, 1.543, 1.108, 0.782, 0.703, 0.249, 0.427, 2.58)\n",
      "('Netherlands', 'Western Europe', 7.464, 0.027, 7.518, 7.41, 10.932, 0.942, 72.4, 0.913, 0.175, 0.338, 2.43, 1.501, 1.079, 0.753, 0.647, 0.302, 0.384, 2.798)\n",
      "('Iceland', 'Western Europe', 7.554, 0.059, 7.67, 7.438, 10.878, 0.983, 73.0, 0.955, 0.16, 0.673, 2.43, 1.482, 1.172, 0.772, 0.698, 0.293, 0.17, 2.967)\n",
      "('Switzerland', 'Western Europe', 7.571, 0.036, 7.643, 7.5, 11.117, 0.942, 74.4, 0.919, 0.025, 0.292, 2.43, 1.566, 1.079, 0.816, 0.653, 0.204, 0.413, 2.839)\n",
      "('Denmark', 'Western Europe', 7.62, 0.035, 7.687, 7.552, 10.933, 0.954, 72.7, 0.946, 0.03, 0.179, 2.43, 1.502, 1.108, 0.763, 0.686, 0.208, 0.485, 2.868)\n",
      "('Finland', 'Western Europe', 7.842, 0.032, 7.904, 7.78, 10.775, 0.954, 72.0, 0.949, -0.098, 0.186, 2.43, 1.446, 1.106, 0.741, 0.691, 0.124, 0.481, 3.253)\n"
     ]
    }
   ],
   "source": [
    "cursor.execute(\"\"\"\n",
    "    SELECT * FROM 'world-happiness-report-2021'\n",
    "    WHERE \"Regional indicator\" = 'Western Europe'\n",
    "    ORDER BY \"Ladder score\" ASC\n",
    "\"\"\")\n",
    "\n",
    "rows = cursor.fetchall()\n",
    "print(\"დასავლეთ ევროპის სია, ბედნიერების მაჩვენებლით (ზრდადობით დალაგებული):\\n\")\n",
    "\n",
    "for row in rows:\n",
    "    print(row)"
   ]
  },
  {
   "cell_type": "code",
   "execution_count": 42,
   "id": "ecc87e34-eae9-4cee-8bba-a55de796130f",
   "metadata": {},
   "outputs": [
    {
     "name": "stdout",
     "output_type": "stream",
     "text": [
      "\n",
      "ახალი ჩანაწერის დამატება:\n"
     ]
    },
    {
     "name": "stdin",
     "output_type": "stream",
     "text": [
      "ქვეყნის სახელი:  georgia\n",
      "ბედნიერების ქულა (0-10):  9\n",
      "რეგიონი:  კახეთი\n"
     ]
    },
    {
     "ename": "OperationalError",
     "evalue": "no such table: world_happiness_report_2021",
     "output_type": "error",
     "traceback": [
      "\u001b[31m---------------------------------------------------------------------------\u001b[39m",
      "\u001b[31mOperationalError\u001b[39m                          Traceback (most recent call last)",
      "\u001b[36mCell\u001b[39m\u001b[36m \u001b[39m\u001b[32mIn[42]\u001b[39m\u001b[32m, line 7\u001b[39m\n\u001b[32m      4\u001b[39m ladder_score = \u001b[38;5;28mfloat\u001b[39m(\u001b[38;5;28minput\u001b[39m(\u001b[33m\"\u001b[39m\u001b[33mბედნიერების ქულა (0-10): \u001b[39m\u001b[33m\"\u001b[39m))\n\u001b[32m      5\u001b[39m regional_indicator = \u001b[38;5;28minput\u001b[39m(\u001b[33m\"\u001b[39m\u001b[33mრეგიონი: \u001b[39m\u001b[33m\"\u001b[39m)\n\u001b[32m----> \u001b[39m\u001b[32m7\u001b[39m \u001b[43mcursor\u001b[49m\u001b[43m.\u001b[49m\u001b[43mexecute\u001b[49m\u001b[43m(\u001b[49m\u001b[33;43m\"\"\"\u001b[39;49m\n\u001b[32m      8\u001b[39m \u001b[33;43m    INSERT INTO world_happiness_report_2021 (Country_name, Ladder_score, Regional_indicator)\u001b[39;49m\n\u001b[32m      9\u001b[39m \u001b[33;43m    VALUES (?, ?, ?)\u001b[39;49m\n\u001b[32m     10\u001b[39m \u001b[33;43m\"\"\"\u001b[39;49m\u001b[43m,\u001b[49m\u001b[43m \u001b[49m\u001b[43m(\u001b[49m\u001b[43mcountry\u001b[49m\u001b[43m,\u001b[49m\u001b[43m \u001b[49m\u001b[43mladder_score\u001b[49m\u001b[43m,\u001b[49m\u001b[43m \u001b[49m\u001b[43mregional_indicator\u001b[49m\u001b[43m)\u001b[49m\u001b[43m)\u001b[49m\n\u001b[32m     12\u001b[39m conn.commit()\n\u001b[32m     13\u001b[39m \u001b[38;5;28mprint\u001b[39m(\u001b[33m\"\u001b[39m\u001b[33mჩანაწერი დაემატა.\u001b[39m\u001b[38;5;130;01m\\n\u001b[39;00m\u001b[33m\"\u001b[39m)\n",
      "\u001b[31mOperationalError\u001b[39m: no such table: world_happiness_report_2021"
     ]
    }
   ],
   "source": [
    "print(\"\\nახალი ჩანაწერის დამატება:\")\n",
    "\n",
    "country = input(\"ქვეყნის სახელი: \")\n",
    "ladder_score = float(input(\"ბედნიერების ქულა (0-10): \"))\n",
    "regional_indicator = input(\"რეგიონი: \")\n",
    "\n",
    "cursor.execute(\"\"\"\n",
    "    INSERT INTO world_happiness_report_2021 (Country_name, Ladder_score, Regional_indicator)\n",
    "    VALUES (?, ?, ?)\n",
    "\"\"\", (country, ladder_score, regional_indicator))\n",
    "\n",
    "conn.commit()\n",
    "print(\"ჩანაწერი დაემატა.\\n\")\n"
   ]
  },
  {
   "cell_type": "code",
   "execution_count": 43,
   "id": "2c4f039e-4851-4a2d-9d3f-bf101f10c1db",
   "metadata": {},
   "outputs": [
    {
     "name": "stdout",
     "output_type": "stream",
     "text": [
      "\n",
      "ჩანაწერის განახლება:\n"
     ]
    },
    {
     "name": "stdin",
     "output_type": "stream",
     "text": [
      "რომელი ქვეყნის მონაცემები განაახლდეს:  Portugal\n",
      "ახალი ბედნიერების ქულა (0-10):  9\n"
     ]
    },
    {
     "name": "stdout",
     "output_type": "stream",
     "text": [
      "შეცდომა: no such table: world_happiness_report_2021\n",
      "\n"
     ]
    }
   ],
   "source": [
    "print(\"\\nჩანაწერის განახლება:\")\n",
    "try:\n",
    "    country = input(\"რომელი ქვეყნის მონაცემები განაახლდეს: \")\n",
    "    new_score = float(input(\"ახალი ბედნიერების ქულა (0-10): \"))\n",
    "\n",
    "    cursor.execute(\"\"\"\n",
    "        UPDATE world_happiness_report_2021 \n",
    "        SET Ladder_score = ? \n",
    "        WHERE Country_name = ?\n",
    "    \"\"\", (new_score, country))\n",
    "    conn.commit()\n",
    "    print(\"ჩანაწერი განახლდა.\\n\")\n",
    "except Exception as e:\n",
    "    print(f\"შეცდომა: {e}\\n\")"
   ]
  },
  {
   "cell_type": "code",
   "execution_count": 46,
   "id": "c26b83f5-89fc-4d16-8419-764582d50516",
   "metadata": {},
   "outputs": [
    {
     "name": "stdout",
     "output_type": "stream",
     "text": [
      "\n",
      "ჩანაწერის წაშლა:\n"
     ]
    },
    {
     "name": "stdin",
     "output_type": "stream",
     "text": [
      "რომელი ქვეყნის ჩანაწერი წაიშალოს:  georgia\n"
     ]
    },
    {
     "name": "stdout",
     "output_type": "stream",
     "text": [
      "შეცდომა: Cannot operate on a closed database.\n",
      "\n"
     ]
    }
   ],
   "source": [
    "print(\"\\nჩანაწერის წაშლა:\")\n",
    "try:\n",
    "    country = input(\"რომელი ქვეყნის ჩანაწერი წაიშალოს: \")\n",
    "\n",
    "    cursor.execute(\"\"\"\n",
    "        DELETE FROM world_happiness_report_2021 \n",
    "        WHERE Country_name = ?\n",
    "    \"\"\", (country,))\n",
    "    conn.commit()\n",
    "    print(\"ჩანაწერი წაიშალა.\\n\")\n",
    "except Exception as e:\n",
    "    print(f\"შეცდომა: {e}\\n\")"
   ]
  },
  {
   "cell_type": "code",
   "execution_count": 48,
   "id": "bf1ec3bb-6cd7-463c-86b3-d1558d0bd3d9",
   "metadata": {},
   "outputs": [
    {
     "name": "stdout",
     "output_type": "stream",
     "text": [
      "\n",
      "ჩანაწერის წაშლა:\n"
     ]
    },
    {
     "name": "stdin",
     "output_type": "stream",
     "text": [
      "რომელი ქვეყნის ჩანაწერი წაიშალოს:  Portugal\n"
     ]
    },
    {
     "name": "stdout",
     "output_type": "stream",
     "text": [
      "შეცდომა: no such table: world_happiness_report_2021\n",
      "\n"
     ]
    }
   ],
   "source": [
    "conn = sqlite3.connect(\"Happiness.sqlite3\")\n",
    "cursor = conn.cursor()\n",
    "\n",
    "print(\"\\nჩანაწერის წაშლა:\")\n",
    "try:\n",
    "    country = input(\"რომელი ქვეყნის ჩანაწერი წაიშალოს: \")\n",
    "\n",
    "    cursor.execute(\"\"\"\n",
    "        DELETE FROM world_happiness_report_2021 \n",
    "        WHERE Country_name = ?\n",
    "    \"\"\", (country,))\n",
    "    conn.commit()\n",
    "    print(\"ჩანაწერი წაიშალა.\\n\")\n",
    "except Exception as e:\n",
    "    print(f\"შეცდომა: {e}\\n\")"
   ]
  },
  {
   "cell_type": "code",
   "execution_count": 49,
   "id": "7c71022e-3d1f-48b0-81cc-527e4c234fd5",
   "metadata": {},
   "outputs": [
    {
     "ename": "OperationalError",
     "evalue": "no such table: world_happiness_report_2021",
     "output_type": "error",
     "traceback": [
      "\u001b[31m---------------------------------------------------------------------------\u001b[39m",
      "\u001b[31mOperationalError\u001b[39m                          Traceback (most recent call last)",
      "\u001b[36mCell\u001b[39m\u001b[36m \u001b[39m\u001b[32mIn[49]\u001b[39m\u001b[32m, line 2\u001b[39m\n\u001b[32m      1\u001b[39m \u001b[38;5;66;03m# 1. ღერძის დიაგრამა (Pie Chart) - რეგიონების განაწილება\u001b[39;00m\n\u001b[32m----> \u001b[39m\u001b[32m2\u001b[39m \u001b[43mcursor\u001b[49m\u001b[43m.\u001b[49m\u001b[43mexecute\u001b[49m\u001b[43m(\u001b[49m\u001b[33;43m\"\u001b[39;49m\u001b[33;43mSELECT Regional_indicator, COUNT(*) FROM world_happiness_report_2021 GROUP BY Regional_indicator\u001b[39;49m\u001b[33;43m\"\u001b[39;49m\u001b[43m)\u001b[49m\n\u001b[32m      3\u001b[39m region_data = cursor.fetchall()\n\u001b[32m      4\u001b[39m regions = [row[\u001b[32m0\u001b[39m] \u001b[38;5;28;01mfor\u001b[39;00m row \u001b[38;5;129;01min\u001b[39;00m region_data]\n",
      "\u001b[31mOperationalError\u001b[39m: no such table: world_happiness_report_2021"
     ]
    }
   ],
   "source": [
    "# 1. ღერძის დიაგრამა (Pie Chart) - რეგიონების განაწილება\n",
    "cursor.execute(\"SELECT Regional_indicator, COUNT(*) FROM world_happiness_report_2021 GROUP BY Regional_indicator\")\n",
    "region_data = cursor.fetchall()\n",
    "regions = [row[0] for row in region_data]\n",
    "counts = [row[1] for row in region_data]\n",
    "\n",
    "plt.figure(figsize=(8, 8))\n",
    "plt.pie(counts, labels=regions, autopct='%1.1f%%', startangle=90)\n",
    "plt.title(\"რეგიონების განაწილება მსოფლიო ბედნიერების ანგარიშში\")\n",
    "plt.axis('equal')  # ტოლი ღერძები, რათა წრე იყოს\n",
    "plt.show()\n",
    "# კომენტარი: ეს ღერძის დიაგრამა აჩვენებს, რამდენი ქვეყანაა თითოეულ რეგიონში პროცენტებით.\n",
    "\n",
    "# 2. ზოლიანი დიაგრამა (Bar Chart) - ზედა 5 ბედნიერი ქვეყანა\n",
    "cursor.execute(\"SELECT Country_name, Ladder_score FROM world_happiness_report_2021 ORDER BY Ladder_score DESC LIMIT 5\")\n",
    "top5_data = cursor.fetchall()\n",
    "countries = [row[0] for row in top5_data]\n",
    "scores = [row[1] for row in top5_data]\n",
    "\n",
    "plt.figure(figsize=(10, 5))\n",
    "plt.bar(countries, scores, color='skyblue')\n",
    "plt.title(\"ზედა 5 ბედნიერი ქვეყანა 2021\")\n",
    "plt.xlabel(\"ქვეყნები\")\n",
    "plt.ylabel(\"ბედნიერების ქულა\")\n",
    "plt.xticks(rotation=45)\n",
    "plt.show()\n",
    "# კომენტარი: ეს ზოლიანი დიაგრამა აჩვენებს ზედა 5 ქვეყანას ბედნიერების ქულით კლებადობით.\n",
    "\n",
    "# 3. ხაზოვანი დიაგრამა (Line Chart) - ბედნიერების ქულის საშუალო რეგიონების მიხედვით\n",
    "cursor.execute(\"SELECT Regional_indicator, AVG(Ladder_score) FROM world_happiness_report_2021 GROUP BY Regional_indicator\")\n",
    "avg_data = cursor.fetchall()\n",
    "regions_avg = [row[0] for row in avg_data]\n",
    "avg_scores = [row[1] for row in avg_data]\n",
    "\n",
    "plt.figure(figsize=(10, 5))\n",
    "plt.plot(regions_avg, avg_scores, marker='o')\n",
    "plt.title(\"ბედნიერების ქულის საშუალო რეგიონების მიხედვით\")\n",
    "plt.xlabel(\"რეგიონები\")\n",
    "plt.ylabel(\"საშუალო ბედნიერების ქულა\")\n",
    "plt.xticks(rotation=45)\n",
    "plt.grid()\n",
    "plt.show()\n",
    "# კომენტარი: ეს ხაზოვანი დიაგრამა აჩვენებს თითოეული რეგიონის ბედნიერების ქულის საშუალოს.\n"
   ]
  },
  {
   "cell_type": "code",
   "execution_count": 50,
   "id": "3ca45640-91a9-4fb9-84b2-46cb1348565f",
   "metadata": {},
   "outputs": [],
   "source": [
    "# კავშირის დახურვა\n",
    "conn.close()"
   ]
  }
 ],
 "metadata": {
  "kernelspec": {
   "display_name": "Python 3 (ipykernel)",
   "language": "python",
   "name": "python3"
  },
  "language_info": {
   "codemirror_mode": {
    "name": "ipython",
    "version": 3
   },
   "file_extension": ".py",
   "mimetype": "text/x-python",
   "name": "python",
   "nbconvert_exporter": "python",
   "pygments_lexer": "ipython3",
   "version": "3.11.9"
  }
 },
 "nbformat": 4,
 "nbformat_minor": 5
}
